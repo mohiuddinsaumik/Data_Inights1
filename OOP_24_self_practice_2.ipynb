{
  "nbformat": 4,
  "nbformat_minor": 0,
  "metadata": {
    "colab": {
      "provenance": [],
      "authorship_tag": "ABX9TyMVUNuS2EdKHJ1cwgTo452c",
      "include_colab_link": true
    },
    "kernelspec": {
      "name": "python3",
      "display_name": "Python 3"
    },
    "language_info": {
      "name": "python"
    }
  },
  "cells": [
    {
      "cell_type": "markdown",
      "metadata": {
        "id": "view-in-github",
        "colab_type": "text"
      },
      "source": [
        "<a href=\"https://colab.research.google.com/github/mohiuddinsaumik/Data_Inights1/blob/main/OOP_24_self_practice_2.ipynb\" target=\"_parent\"><img src=\"https://colab.research.google.com/assets/colab-badge.svg\" alt=\"Open In Colab\"/></a>"
      ]
    },
    {
      "cell_type": "code",
      "execution_count": 6,
      "metadata": {
        "id": "Ez_iuIrheeJu"
      },
      "outputs": [],
      "source": [
        "class Student:\n",
        "  def __init__(self,name,band):\n",
        "    self.name = name\n",
        "    self.band = band\n",
        "\n",
        "  @staticmethod\n",
        "\n",
        "  def hello():\n",
        "    print(\"Hello there...\")\n",
        "\n",
        "  def get_avg(self):\n",
        "    sum = 0\n",
        "    for value in self.band:\n",
        "      sum += value\n",
        "    print(\"Hello \",self.name, \"your overall Band is : \", sum/4)"
      ]
    },
    {
      "cell_type": "code",
      "source": [
        "s1 = Student(\"Jamal Kudu\",[7,6.5,7,7])\n",
        "s1.get_avg()"
      ],
      "metadata": {
        "colab": {
          "base_uri": "https://localhost:8080/"
        },
        "id": "COTn0dfYepvl",
        "outputId": "d8615931-c66f-40bc-dc7a-622ddd7ae7b0"
      },
      "execution_count": 8,
      "outputs": [
        {
          "output_type": "stream",
          "name": "stdout",
          "text": [
            "Hello  Jamal Kudu your overall Band is :  6.875\n"
          ]
        }
      ]
    },
    {
      "cell_type": "code",
      "source": [],
      "metadata": {
        "id": "NUiE1IRZfQhv"
      },
      "execution_count": 3,
      "outputs": []
    },
    {
      "cell_type": "markdown",
      "source": [
        "***Static Methode***\n",
        "its dont use \"***__self__***\" parameter"
      ],
      "metadata": {
        "id": "SQl7sdtU5z5c"
      }
    },
    {
      "cell_type": "code",
      "source": [
        "@staticmethod\n",
        "\n",
        "def hello():\n",
        "  print(\"Hello there...\")"
      ],
      "metadata": {
        "id": "WK_8LFhI6DEg"
      },
      "execution_count": 12,
      "outputs": []
    },
    {
      "cell_type": "code",
      "source": [
        "s1.hello()"
      ],
      "metadata": {
        "colab": {
          "base_uri": "https://localhost:8080/"
        },
        "id": "q53CnGAM6r5N",
        "outputId": "778c555b-3cb3-4ad6-9f1e-e6a581ea06a6"
      },
      "execution_count": 11,
      "outputs": [
        {
          "output_type": "stream",
          "name": "stdout",
          "text": [
            "Hello there...\n"
          ]
        }
      ]
    },
    {
      "cell_type": "code",
      "source": [
        "class Car:\n",
        "\n",
        "  def __init__(self) -> None:\n",
        "    self.acc = False\n",
        "    self.brk = False\n",
        "    self.clutch = False\n",
        "\n",
        "  def start(self):\n",
        "    self.clutch = True\n",
        "    self.acc = True\n",
        "    print(\"Car stared... \")"
      ],
      "metadata": {
        "id": "D7X1rMwN6x1g"
      },
      "execution_count": 13,
      "outputs": []
    },
    {
      "cell_type": "code",
      "source": [
        "car1 = Car()\n",
        "car1.start()"
      ],
      "metadata": {
        "colab": {
          "base_uri": "https://localhost:8080/"
        },
        "id": "mUMrbzunDMLz",
        "outputId": "135b9f85-af59-4f2d-e91d-1ea63297c585"
      },
      "execution_count": 15,
      "outputs": [
        {
          "output_type": "stream",
          "name": "stdout",
          "text": [
            "Car stared... \n"
          ]
        }
      ]
    },
    {
      "cell_type": "markdown",
      "source": [
        "Create Account class with two (2) attributes - Balance & Account No.\n",
        "Create methode for debit, credit & show the Balance."
      ],
      "metadata": {
        "id": "PmuOc-oTEjA0"
      }
    },
    {
      "cell_type": "code",
      "source": [
        "class Account:\n",
        "  def __init__(self,bal,acc) :\n",
        "    self.balance = bal\n",
        "    self.account_no = acc\n",
        "\n",
        "  def debit(self, amount):\n",
        "    self.balance  -= amount\n",
        "    print(\"BDT\",amount, \"Was debited\")\n",
        "    print(\"Total balance = \",self.get_balance())\n",
        "\n",
        "  def credit(self,amount):\n",
        "    self.balance += amount\n",
        "    print(\"BDT\", amount, \"was creadited\")\n",
        "    print(\"Total balance\", self.get_balance())\n",
        "\n",
        "  def get_balance(self):\n",
        "    return self.balance"
      ],
      "metadata": {
        "id": "bsxLqOasDUfA"
      },
      "execution_count": 28,
      "outputs": []
    },
    {
      "cell_type": "code",
      "source": [
        "acc1 = Account(15000, 29998213232)\n",
        "print(acc1.balance, \"BDT\")"
      ],
      "metadata": {
        "colab": {
          "base_uri": "https://localhost:8080/"
        },
        "id": "s6tfyUJTFI1C",
        "outputId": "251500dd-d7a3-4076-c398-261e98a2bd86"
      },
      "execution_count": 29,
      "outputs": [
        {
          "output_type": "stream",
          "name": "stdout",
          "text": [
            "15000 BDT\n"
          ]
        }
      ]
    },
    {
      "cell_type": "code",
      "source": [
        "acc1.credit(30000)"
      ],
      "metadata": {
        "colab": {
          "base_uri": "https://localhost:8080/"
        },
        "id": "9gXh8f1xFc7G",
        "outputId": "6c1a73a6-2ba8-4af1-9d25-538dc48501bd"
      },
      "execution_count": 30,
      "outputs": [
        {
          "output_type": "stream",
          "name": "stdout",
          "text": [
            "BDT 30000 was creadited\n",
            "Total balance 45000\n"
          ]
        }
      ]
    },
    {
      "cell_type": "code",
      "source": [
        "acc1.debit(22000)"
      ],
      "metadata": {
        "colab": {
          "base_uri": "https://localhost:8080/"
        },
        "id": "Cu1BDHHjHNyK",
        "outputId": "996bfeb2-61fa-4dcc-a441-7c6a23e59f0c"
      },
      "execution_count": 31,
      "outputs": [
        {
          "output_type": "stream",
          "name": "stdout",
          "text": [
            "BDT 22000 Was debited\n",
            "Total balance =  23000\n"
          ]
        }
      ]
    },
    {
      "cell_type": "code",
      "source": [],
      "metadata": {
        "id": "KdwYcWAvHgUp"
      },
      "execution_count": null,
      "outputs": []
    }
  ]
}