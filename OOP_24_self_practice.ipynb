{
  "nbformat": 4,
  "nbformat_minor": 0,
  "metadata": {
    "colab": {
      "provenance": [],
      "authorship_tag": "ABX9TyNkDQgGIiKnFogfhc1jtWOj",
      "include_colab_link": true
    },
    "kernelspec": {
      "name": "python3",
      "display_name": "Python 3"
    },
    "language_info": {
      "name": "python"
    }
  },
  "cells": [
    {
      "cell_type": "markdown",
      "metadata": {
        "id": "view-in-github",
        "colab_type": "text"
      },
      "source": [
        "<a href=\"https://colab.research.google.com/github/mohiuddinsaumik/Data_Inights1/blob/main/OOP_24_self_practice.ipynb\" target=\"_parent\"><img src=\"https://colab.research.google.com/assets/colab-badge.svg\" alt=\"Open In Colab\"/></a>"
      ]
    },
    {
      "cell_type": "code",
      "execution_count": 1,
      "metadata": {
        "id": "X81ID-BJJ6NT",
        "colab": {
          "base_uri": "https://localhost:8080/"
        },
        "outputId": "5e71b4f5-0858-49a7-9da8-6bd4d9f7dbf1"
      },
      "outputs": [
        {
          "output_type": "stream",
          "name": "stdout",
          "text": [
            "33\n"
          ]
        }
      ],
      "source": [
        "a = 10\n",
        "\n",
        "b = 23\n",
        "\n",
        "sum = a + b\n",
        "\n",
        "print(sum)"
      ]
    },
    {
      "cell_type": "code",
      "source": [
        "diff = a-b\n",
        "print (diff)"
      ],
      "metadata": {
        "colab": {
          "base_uri": "https://localhost:8080/"
        },
        "id": "BAB3W69WPxdP",
        "outputId": "1889ce9a-1eaa-4eac-a26e-3111e5186f0a"
      },
      "execution_count": 2,
      "outputs": [
        {
          "output_type": "stream",
          "name": "stdout",
          "text": [
            "-13\n"
          ]
        }
      ]
    },
    {
      "cell_type": "code",
      "source": [
        "class Student:\n",
        "\n",
        "  def __init__(self, fullname):\n",
        "    self.name = fullname\n",
        "    print(\"Adding New Student in Databse\")\n",
        "\n",
        "s1 = Student(\"Tuktuk\")\n",
        "print(s1.name)"
      ],
      "metadata": {
        "colab": {
          "base_uri": "https://localhost:8080/"
        },
        "id": "W_hmUt_8QCtF",
        "outputId": "09ccd4c9-a6a4-44df-abc6-d7df53074d5c"
      },
      "execution_count": 12,
      "outputs": [
        {
          "output_type": "stream",
          "name": "stdout",
          "text": [
            "Adding New Student in Databse\n",
            "Tuktuk\n"
          ]
        }
      ]
    },
    {
      "cell_type": "code",
      "source": [
        "print(s1.name)"
      ],
      "metadata": {
        "colab": {
          "base_uri": "https://localhost:8080/"
        },
        "id": "YYfs4gF-R8rT",
        "outputId": "33911b06-9746-432a-9238-509a18c0a4cc"
      },
      "execution_count": 4,
      "outputs": [
        {
          "output_type": "stream",
          "name": "stdout",
          "text": [
            "Tuktuk\n"
          ]
        }
      ]
    },
    {
      "cell_type": "code",
      "source": [
        "class Car:\n",
        "  brand = \"BMW\"\n",
        "  model = \"EV i330\"\n",
        "  color = \"blue\""
      ],
      "metadata": {
        "id": "wyqnkwGhSWNL"
      },
      "execution_count": 5,
      "outputs": []
    },
    {
      "cell_type": "code",
      "source": [
        "car1 = Car()"
      ],
      "metadata": {
        "id": "3uukVIuRSnBM"
      },
      "execution_count": 6,
      "outputs": []
    },
    {
      "cell_type": "code",
      "source": [
        "print(car1.model)"
      ],
      "metadata": {
        "colab": {
          "base_uri": "https://localhost:8080/"
        },
        "id": "O1n69MNYSsLM",
        "outputId": "7b8a758b-9f10-4bea-9771-642da2606057"
      },
      "execution_count": 7,
      "outputs": [
        {
          "output_type": "stream",
          "name": "stdout",
          "text": [
            "EV i330\n"
          ]
        }
      ]
    },
    {
      "cell_type": "code",
      "source": [],
      "metadata": {
        "id": "XH7iiAdHTO-g"
      },
      "execution_count": 7,
      "outputs": []
    }
  ]
}